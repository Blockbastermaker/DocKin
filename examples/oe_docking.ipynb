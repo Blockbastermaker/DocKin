{
 "cells": [
  {
   "cell_type": "markdown",
   "metadata": {},
   "source": [
    "# OpenEye (OE) docking example\n",
    "\n",
    "This notebook shows how to process data from [KLIFS](https://klifs.vu-compmedchem.nl/), perform docking into a kinase with different docking methods available in the [OpenEye toolkit](https://docs.eyesopen.com/toolkits/python/index.html) as well as how to assess and visualize docking results.\n",
    "\n",
    "The main aim of the following sections is to get to know two docking methods (Hybrid, ChemGauss) from OEDocking. The [Hybrid](https://docs.eyesopen.com/toolkits/python/dockingtk/docking.html#hybrid-method) method uses a shape overlay to the co-crystalized ligand to bias the docking algorithm. However, it is not usable if a co-crystalized ligand is not available. In this situation, the more 'traditional' [ChemGauss](https://docs.eyesopen.com/toolkits/python/dockingtk/scoring.html#chemgauss3) docking method can be used to dock a ligand.\n",
    "\n",
    "Re-docking will be performed to assess the performance of the two docking methods in placing the co-crystalized ligand in the corresponding protein structure. Cross-docking will be performed to assess the performance of the Hybrid method in placing a ligand into another structure of the same kinase and conformation. Here it would be interesting to evaluate, if the Hybrid method fails if the docked ligand is too dissimilar to the co-crystalized ligand used during shape overlay.\n",
    "\n",
    "Docking results will be visualized using NGLView and assessed by calculating the RMSD between docking pose and crystal structure pose."
   ]
  },
  {
   "cell_type": "markdown",
   "metadata": {},
   "source": [
    "## Content\n",
    "\n",
    "1. Process data from KLIFS.  \n",
    "2. Re-Docking.  \n",
    "   2.1. Prepare protein and ligand.  \n",
    "   2.2. Hybrid docking method.  \n",
    "   2.3. ChemGauss docking method.  \n",
    "3. Cross-Docking."
   ]
  },
  {
   "cell_type": "markdown",
   "metadata": {},
   "source": [
    "## 1. Process data from KLIFS.\n",
    "\n",
    "Let's retrieve all relevant data from KLIFS and store it in a single dataframe for subsequent processing."
   ]
  },
  {
   "cell_type": "code",
   "execution_count": 1,
   "metadata": {},
   "outputs": [
    {
     "name": "stdout",
     "output_type": "stream",
     "text": [
      "Number of PDB entries: 5135\n",
      "Number of KLIFS entries: 11070\n"
     ]
    },
    {
     "data": {
      "text/html": [
       "<div>\n",
       "<style scoped>\n",
       "    .dataframe tbody tr th:only-of-type {\n",
       "        vertical-align: middle;\n",
       "    }\n",
       "\n",
       "    .dataframe tbody tr th {\n",
       "        vertical-align: top;\n",
       "    }\n",
       "\n",
       "    .dataframe thead th {\n",
       "        text-align: right;\n",
       "    }\n",
       "</style>\n",
       "<table border=\"1\" class=\"dataframe\">\n",
       "  <thead>\n",
       "    <tr style=\"text-align: right;\">\n",
       "      <th></th>\n",
       "      <th>structure_ID</th>\n",
       "      <th>kinase</th>\n",
       "      <th>species</th>\n",
       "      <th>kinase_ID</th>\n",
       "      <th>pdb</th>\n",
       "      <th>alt</th>\n",
       "      <th>chain</th>\n",
       "      <th>rmsd1</th>\n",
       "      <th>rmsd2</th>\n",
       "      <th>pocket</th>\n",
       "      <th>...</th>\n",
       "      <th>bp_I_A</th>\n",
       "      <th>bp_I_B</th>\n",
       "      <th>bp_II_in</th>\n",
       "      <th>bp_II_A_in</th>\n",
       "      <th>bp_II_B_in</th>\n",
       "      <th>bp_II_out</th>\n",
       "      <th>bp_II_B</th>\n",
       "      <th>bp_III</th>\n",
       "      <th>bp_IV</th>\n",
       "      <th>bp_V</th>\n",
       "    </tr>\n",
       "  </thead>\n",
       "  <tbody>\n",
       "    <tr>\n",
       "      <th>11065</th>\n",
       "      <td>9096</td>\n",
       "      <td>PI4K2B</td>\n",
       "      <td>Human</td>\n",
       "      <td>1091</td>\n",
       "      <td>4wtv</td>\n",
       "      <td>B</td>\n",
       "      <td>B</td>\n",
       "      <td>1.554</td>\n",
       "      <td>3.041</td>\n",
       "      <td>ERIS___SGSYFVGVFKPKGYLSEAGAYLVDNSIVPKTKVVGSFQL...</td>\n",
       "      <td>...</td>\n",
       "      <td>False</td>\n",
       "      <td>False</td>\n",
       "      <td>False</td>\n",
       "      <td>False</td>\n",
       "      <td>False</td>\n",
       "      <td>False</td>\n",
       "      <td>False</td>\n",
       "      <td>False</td>\n",
       "      <td>False</td>\n",
       "      <td>False</td>\n",
       "    </tr>\n",
       "    <tr>\n",
       "      <th>11066</th>\n",
       "      <td>9095</td>\n",
       "      <td>PI4K2B</td>\n",
       "      <td>Human</td>\n",
       "      <td>1091</td>\n",
       "      <td>4wtv</td>\n",
       "      <td>A</td>\n",
       "      <td>A</td>\n",
       "      <td>1.554</td>\n",
       "      <td>3.088</td>\n",
       "      <td>ERISQGSSGSYFVGVFKPKGYLSEAGAYLVDNSIVPKTKVVGSFQL...</td>\n",
       "      <td>...</td>\n",
       "      <td>False</td>\n",
       "      <td>False</td>\n",
       "      <td>False</td>\n",
       "      <td>False</td>\n",
       "      <td>False</td>\n",
       "      <td>False</td>\n",
       "      <td>False</td>\n",
       "      <td>False</td>\n",
       "      <td>False</td>\n",
       "      <td>False</td>\n",
       "    </tr>\n",
       "    <tr>\n",
       "      <th>11067</th>\n",
       "      <td>9097</td>\n",
       "      <td>PI4K2B</td>\n",
       "      <td>Human</td>\n",
       "      <td>1091</td>\n",
       "      <td>4wtv</td>\n",
       "      <td>A</td>\n",
       "      <td>B</td>\n",
       "      <td>1.554</td>\n",
       "      <td>3.041</td>\n",
       "      <td>ERIS___SGSYFVGVFKPKGYLSEAGAYLVDNSIVPKTKVVGSFQL...</td>\n",
       "      <td>...</td>\n",
       "      <td>False</td>\n",
       "      <td>False</td>\n",
       "      <td>False</td>\n",
       "      <td>False</td>\n",
       "      <td>False</td>\n",
       "      <td>False</td>\n",
       "      <td>False</td>\n",
       "      <td>False</td>\n",
       "      <td>False</td>\n",
       "      <td>False</td>\n",
       "    </tr>\n",
       "    <tr>\n",
       "      <th>11068</th>\n",
       "      <td>9069</td>\n",
       "      <td>PI4KA</td>\n",
       "      <td>Human</td>\n",
       "      <td>1096</td>\n",
       "      <td>6bq1</td>\n",
       "      <td></td>\n",
       "      <td>E</td>\n",
       "      <td>1.699</td>\n",
       "      <td>2.670</td>\n",
       "      <td>_PMQSAAKAPYLAAIFKVGDCRQDMLALQIIDLFVFPYRVVCGVIE...</td>\n",
       "      <td>...</td>\n",
       "      <td>True</td>\n",
       "      <td>True</td>\n",
       "      <td>False</td>\n",
       "      <td>False</td>\n",
       "      <td>False</td>\n",
       "      <td>False</td>\n",
       "      <td>False</td>\n",
       "      <td>False</td>\n",
       "      <td>False</td>\n",
       "      <td>False</td>\n",
       "    </tr>\n",
       "    <tr>\n",
       "      <th>11069</th>\n",
       "      <td>9070</td>\n",
       "      <td>PI4KA</td>\n",
       "      <td>Human</td>\n",
       "      <td>1096</td>\n",
       "      <td>6bq1</td>\n",
       "      <td></td>\n",
       "      <td>A</td>\n",
       "      <td>1.704</td>\n",
       "      <td>2.676</td>\n",
       "      <td>_PMQSAAKAPYLAAIFKVGDCRQDMLALQIIDLFVFPYRVVCGVIE...</td>\n",
       "      <td>...</td>\n",
       "      <td>False</td>\n",
       "      <td>True</td>\n",
       "      <td>False</td>\n",
       "      <td>False</td>\n",
       "      <td>False</td>\n",
       "      <td>False</td>\n",
       "      <td>False</td>\n",
       "      <td>False</td>\n",
       "      <td>False</td>\n",
       "      <td>False</td>\n",
       "    </tr>\n",
       "  </tbody>\n",
       "</table>\n",
       "<p>5 rows × 36 columns</p>\n",
       "</div>"
      ],
      "text/plain": [
       "       structure_ID  kinase species  kinase_ID   pdb alt chain  rmsd1  rmsd2  \\\n",
       "11065          9096  PI4K2B   Human       1091  4wtv   B     B  1.554  3.041   \n",
       "11066          9095  PI4K2B   Human       1091  4wtv   A     A  1.554  3.088   \n",
       "11067          9097  PI4K2B   Human       1091  4wtv   A     B  1.554  3.041   \n",
       "11068          9069   PI4KA   Human       1096  6bq1         E  1.699  2.670   \n",
       "11069          9070   PI4KA   Human       1096  6bq1         A  1.704  2.676   \n",
       "\n",
       "                                                  pocket  ...  bp_I_A  bp_I_B  \\\n",
       "11065  ERIS___SGSYFVGVFKPKGYLSEAGAYLVDNSIVPKTKVVGSFQL...  ...   False   False   \n",
       "11066  ERISQGSSGSYFVGVFKPKGYLSEAGAYLVDNSIVPKTKVVGSFQL...  ...   False   False   \n",
       "11067  ERIS___SGSYFVGVFKPKGYLSEAGAYLVDNSIVPKTKVVGSFQL...  ...   False   False   \n",
       "11068  _PMQSAAKAPYLAAIFKVGDCRQDMLALQIIDLFVFPYRVVCGVIE...  ...    True    True   \n",
       "11069  _PMQSAAKAPYLAAIFKVGDCRQDMLALQIIDLFVFPYRVVCGVIE...  ...   False    True   \n",
       "\n",
       "       bp_II_in  bp_II_A_in bp_II_B_in bp_II_out bp_II_B bp_III  bp_IV   bp_V  \n",
       "11065     False       False      False     False   False  False  False  False  \n",
       "11066     False       False      False     False   False  False  False  False  \n",
       "11067     False       False      False     False   False  False  False  False  \n",
       "11068     False       False      False     False   False  False  False  False  \n",
       "11069     False       False      False     False   False  False  False  False  \n",
       "\n",
       "[5 rows x 36 columns]"
      ]
     },
     "execution_count": 1,
     "metadata": {},
     "output_type": "execute_result"
    }
   ],
   "source": [
    "import klifs_utils\n",
    "kinase_ids = klifs_utils.remote.kinases.kinase_names().kinase_ID.to_list()\n",
    "kinase_df = klifs_utils.remote.structures.structures_from_kinase_ids(kinase_ids)\n",
    "print('Number of PDB entries:', len(set(kinase_df['pdb'])))\n",
    "print('Number of KLIFS entries:', len(kinase_df))\n",
    "kinase_df.tail()"
   ]
  },
  {
   "cell_type": "markdown",
   "metadata": {},
   "source": [
    "Interestingly, we find several entries for the same PDB ID. Why is that?"
   ]
  },
  {
   "cell_type": "code",
   "execution_count": 2,
   "metadata": {},
   "outputs": [
    {
     "data": {
      "text/plain": [
       "Index(['structure_ID', 'kinase', 'species', 'kinase_ID', 'pdb', 'alt', 'chain',\n",
       "       'rmsd1', 'rmsd2', 'pocket', 'resolution', 'quality_score',\n",
       "       'missing_residues', 'missing_atoms', 'ligand', 'allosteric_ligand',\n",
       "       'DFG', 'aC_helix', 'Grich_distance', 'Grich_angle', 'Grich_rotation',\n",
       "       'front', 'gate', 'back', 'fp_I', 'fp_II', 'bp_I_A', 'bp_I_B',\n",
       "       'bp_II_in', 'bp_II_A_in', 'bp_II_B_in', 'bp_II_out', 'bp_II_B',\n",
       "       'bp_III', 'bp_IV', 'bp_V'],\n",
       "      dtype='object')"
      ]
     },
     "execution_count": 2,
     "metadata": {},
     "output_type": "execute_result"
    }
   ],
   "source": [
    "kinase_df.columns"
   ]
  },
  {
   "cell_type": "markdown",
   "metadata": {},
   "source": [
    "**alt** - Structures can contain alternate locations of atoms.  \n",
    "**chain** - Structures can contain several chains with different geometry.  \n",
    "**ligand**, **allosteric_ligand** - Structures can contain multiple ligands either in the same binding site or in different chains. In case of 6q0t there are two ligands interacting with each other, docking these ligands seperately might be challenging. In case of 1h00 the racemic mixture was crystalized revealing both enantiomers in the binding pocket, which would be suitable for docking."
   ]
  },
  {
   "cell_type": "markdown",
   "metadata": {},
   "source": [
    "To make things easier, let's pick a single entry per pdb code. Such entry should contain a single orthosteric **ligand** and should have the highest **quality_score** of all available **alt/chain combinations**."
   ]
  },
  {
   "cell_type": "code",
   "execution_count": 3,
   "metadata": {
    "scrolled": true
   },
   "outputs": [
    {
     "name": "stdout",
     "output_type": "stream",
     "text": [
      "Number of PDB entries: 4504\n",
      "Number of KLIFS entries: 9389\n"
     ]
    }
   ],
   "source": [
    "# filter for orthosteric ligand\n",
    "kinase_df = kinase_df[kinase_df['ligand'] != 0]\n",
    "print('Number of PDB entries:', len(set(kinase_df['pdb'])))\n",
    "print('Number of KLIFS entries:', len(kinase_df))"
   ]
  },
  {
   "cell_type": "code",
   "execution_count": 4,
   "metadata": {},
   "outputs": [
    {
     "name": "stdout",
     "output_type": "stream",
     "text": [
      "Number of PDB entries: 4479\n",
      "Number of KLIFS entries: 9280\n"
     ]
    }
   ],
   "source": [
    "# filter for entries with a single orthosteric ligand\n",
    "kinase_df = kinase_df.groupby('pdb').filter(lambda x: len(set(x['ligand'])) == 1)\n",
    "print('Number of PDB entries:', len(set(kinase_df['pdb'])))\n",
    "print('Number of KLIFS entries:', len(kinase_df))"
   ]
  },
  {
   "cell_type": "code",
   "execution_count": 5,
   "metadata": {},
   "outputs": [
    {
     "name": "stdout",
     "output_type": "stream",
     "text": [
      "Number of PDB entries: 4479\n",
      "Number of KLIFS entries: 4479\n"
     ]
    }
   ],
   "source": [
    "# sort by alt, chain and quality score to pick representative structure in next step\n",
    "kinase_df = kinase_df.sort_values(by=['alt','chain', 'quality_score'],ascending=[True, True, False])\n",
    "# keep entry with highest quality score (alt 'A' preferred over alt 'B', chain 'A' preferred over 'B')\n",
    "kinase_df = kinase_df.groupby('pdb').head(1)\n",
    "print('Number of PDB entries:', len(set(kinase_df['pdb'])))\n",
    "print('Number of KLIFS entries:', len(kinase_df))"
   ]
  },
  {
   "cell_type": "markdown",
   "metadata": {},
   "source": [
    "This data set contains bullet proof cases, that an ideal docking algorithm should be able to re-dock. Let's save it for later use."
   ]
  },
  {
   "cell_type": "code",
   "execution_count": 6,
   "metadata": {},
   "outputs": [],
   "source": [
    "kinase_df.to_csv('data/re_docking_data.csv')"
   ]
  },
  {
   "cell_type": "markdown",
   "metadata": {},
   "source": [
    "Another challenge for a docking program would be cross-docking, in which a co-crystalized ligand is docked into another protein structure corresponding to the same kinase. Since kinases are highly dynamic, cross-docking should only be performed within the same kinase conformations. In KLIFS unqiue kinases can be identified using **kinase_ID**. The conformation can be determined with the **DFG** and **aC_helix** fields."
   ]
  },
  {
   "cell_type": "code",
   "execution_count": 7,
   "metadata": {
    "scrolled": true
   },
   "outputs": [],
   "source": [
    "# find structures, for which multiple entries per kinase and conformation are available\n",
    "multiple_pdbs_df = kinase_df.groupby(['kinase_ID', 'DFG', 'aC_helix']).filter(lambda x: len(x[['kinase_ID', 'DFG', 'aC_helix']]) > 1)"
   ]
  },
  {
   "cell_type": "code",
   "execution_count": 8,
   "metadata": {},
   "outputs": [
    {
     "name": "stdout",
     "output_type": "stream",
     "text": [
      "Minimum number of entries for each kinase and conformation: 2\n",
      "Number of PDB entries: 4281\n",
      "Number of KLIFS entries: 4281\n"
     ]
    }
   ],
   "source": [
    "# Check if command works\n",
    "kinase_dict = {}\n",
    "for index, row in multiple_pdbs_df.iterrows():\n",
    "    identity = str(row['kinase_ID']) + row['DFG'] + row['aC_helix']\n",
    "    if identity in kinase_dict.keys():\n",
    "        kinase_dict[identity].append(index)\n",
    "    else:\n",
    "        kinase_dict[identity] = [index]\n",
    "print(f'Minimum number of entries for each kinase and conformation: {min([len(x) for x in kinase_dict.values()])}')\n",
    "print('Number of PDB entries:', len(set(multiple_pdbs_df['pdb'])))\n",
    "print('Number of KLIFS entries:', len(multiple_pdbs_df))"
   ]
  },
  {
   "cell_type": "markdown",
   "metadata": {},
   "source": [
    "Let's save this data set for later use."
   ]
  },
  {
   "cell_type": "code",
   "execution_count": 9,
   "metadata": {},
   "outputs": [],
   "source": [
    "multiple_pdbs_df.to_csv('data/cross_docking_data.csv')"
   ]
  },
  {
   "cell_type": "markdown",
   "metadata": {},
   "source": [
    "## 2. Re-Docking."
   ]
  },
  {
   "cell_type": "markdown",
   "metadata": {},
   "source": [
    "### 2.1. Prepare protein and ligand.\n",
    "\n",
    "In this step a structure will be retrieved from PDB, and protein and ligand prepared for docking."
   ]
  },
  {
   "cell_type": "code",
   "execution_count": 10,
   "metadata": {},
   "outputs": [
    {
     "name": "stdout",
     "output_type": "stream",
     "text": [
      "pdb: 1jvp\n",
      "chain: P\n",
      "altloc: 1\n",
      "ligand: LIG\n"
     ]
    }
   ],
   "source": [
    "# pick structure\n",
    "pdb_id = '1jvp'\n",
    "chain_id, altloc, ligand_id  = kinase_df[kinase_df['pdb'] == pdb_id][['chain', 'alt', 'ligand']].values[0]\n",
    "print(f'pdb: {pdb_id}\\nchain: {chain_id}\\naltloc: {altloc}\\nligand: {ligand_id}')"
   ]
  },
  {
   "cell_type": "code",
   "execution_count": 11,
   "metadata": {},
   "outputs": [
    {
     "data": {
      "text/plain": [
       "2709"
      ]
     },
     "execution_count": 11,
     "metadata": {},
     "output_type": "execute_result"
    }
   ],
   "source": [
    "# retrieve structure\n",
    "from dockin.oe_docking import get_structure_from_pdb\n",
    "mol = get_structure_from_pdb(pdb_id)\n",
    "mol.NumAtoms()"
   ]
  },
  {
   "cell_type": "code",
   "execution_count": 12,
   "metadata": {},
   "outputs": [
    {
     "data": {
      "text/plain": [
       "2547"
      ]
     },
     "execution_count": 12,
     "metadata": {},
     "output_type": "execute_result"
    }
   ],
   "source": [
    "# select chain, alternate location and ligand\n",
    "from dockin.oe_docking import select_chain, select_altloc, select_ligand\n",
    "mol = select_chain(mol, chain_id)\n",
    "mol = select_altloc(mol, altloc)\n",
    "mol = select_ligand(mol, ligand_id)\n",
    "mol.NumAtoms()"
   ]
  },
  {
   "cell_type": "code",
   "execution_count": 13,
   "metadata": {},
   "outputs": [
    {
     "name": "stdout",
     "output_type": "stream",
     "text": [
      "Re-optimizing hydrogen positions...\n",
      "Identifying design units...\n",
      "Protein: 4631\n",
      "Ligand: 29\n"
     ]
    }
   ],
   "source": [
    "# prepare protein and ligand and save it for later visualization\n",
    "from dockin.oe_docking import prepare_complex\n",
    "protein, ligand = prepare_complex(mol, f'data/{pdb_id}_protein.pdb', f'data/{pdb_id}_{ligand_id}.sdf')\n",
    "print(f'Protein: {protein.NumAtoms()}\\nLigand: {ligand.NumAtoms()}')"
   ]
  },
  {
   "cell_type": "markdown",
   "metadata": {},
   "source": [
    "### 2.2. Hybrid docking method.\n",
    "\n",
    "Now we have everything to perform a Re-Docking using the Hybrid method."
   ]
  },
  {
   "cell_type": "code",
   "execution_count": 14,
   "metadata": {},
   "outputs": [],
   "source": [
    "# create hybrid \n",
    "from dockin.oe_docking import create_hybrid_receptor\n",
    "hybrid_receptor = create_hybrid_receptor(protein, ligand, f'data/{pdb_id}_hybrid_receptor.oeb')"
   ]
  },
  {
   "cell_type": "code",
   "execution_count": 15,
   "metadata": {},
   "outputs": [],
   "source": [
    "# run docking\n",
    "from dockin.oe_docking import hybrid_docking\n",
    "# the just extracted ligand will be passed as list, since the hybrid_docking function expects a list of molecules\n",
    "docking_poses = hybrid_docking(hybrid_receptor, [ligand], docking_poses_save_path=f'data/{pdb_id}_hybrid_re-docking.sdf')"
   ]
  },
  {
   "cell_type": "markdown",
   "metadata": {},
   "source": [
    "Let's visualize the docking pose together with the co-crystalized ligand."
   ]
  },
  {
   "cell_type": "code",
   "execution_count": 16,
   "metadata": {},
   "outputs": [
    {
     "data": {
      "application/vnd.jupyter.widget-view+json": {
       "model_id": "eeebe0a281a6488496991d046eb07779",
       "version_major": 2,
       "version_minor": 0
      },
      "text/plain": [
       "_ColormakerRegistry()"
      ]
     },
     "metadata": {},
     "output_type": "display_data"
    },
    {
     "data": {
      "application/vnd.jupyter.widget-view+json": {
       "model_id": "af7b55e929894c6a98621a9fb48d95b4",
       "version_major": 2,
       "version_minor": 0
      },
      "text/plain": [
       "NGLWidget()"
      ]
     },
     "metadata": {},
     "output_type": "display_data"
    }
   ],
   "source": [
    "#  visualize with nglview\n",
    "import nglview as nv\n",
    "view = nv.NGLWidget()\n",
    "view.add_component(f'data/{pdb_id}_protein.pdb')\n",
    "view.add_component(f'data/{pdb_id}_{ligand_id}.sdf')\n",
    "view.add_component(f'data/{pdb_id}_hybrid_re-docking.sdf', representation='licorice')\n",
    "view"
   ]
  },
  {
   "cell_type": "markdown",
   "metadata": {},
   "source": [
    "What is the RMSD between docking pose and co-crystalied ligand?"
   ]
  },
  {
   "cell_type": "code",
   "execution_count": 17,
   "metadata": {},
   "outputs": [
    {
     "name": "stdout",
     "output_type": "stream",
     "text": [
      "RMSD: 0.7331801061933088\n"
     ]
    }
   ],
   "source": [
    "# calculate rmsd\n",
    "from dockin.assess import rmsds_from_sdfs\n",
    "rmsd = rmsds_from_sdfs(f'data/{pdb_id}_{ligand_id}.sdf', f'data/{pdb_id}_hybrid_re-docking.sdf')[0]\n",
    "print(f'RMSD: {rmsd}')"
   ]
  },
  {
   "cell_type": "markdown",
   "metadata": {},
   "source": [
    "### 2.2. ChemGauss docking method."
   ]
  },
  {
   "cell_type": "markdown",
   "metadata": {},
   "source": [
    "The OEDocking toolkit provides the possibility to generate [receptors](https://docs.eyesopen.com/toolkits/python/dockingtk/receptor.html#creating-a-receptor) for docking via protein and ligand (hybrid), protein and hint coordinate or via protein and box dimensions of the active site. In this example we will use the geometric center of the co-crystalized ligand to create a recepter with a hint coordinate."
   ]
  },
  {
   "cell_type": "code",
   "execution_count": 18,
   "metadata": {},
   "outputs": [],
   "source": [
    "# get geometric center of ligand\n",
    "from dockin.oe_docking import get_mol_centroid\n",
    "hintx, hinty, hintz = get_mol_centroid(ligand)"
   ]
  },
  {
   "cell_type": "code",
   "execution_count": 19,
   "metadata": {},
   "outputs": [],
   "source": [
    "# create hint receptor\n",
    "from dockin.oe_docking import create_hint_receptor\n",
    "hint_receptor = create_hint_receptor(protein, hintx, hinty, hintz, f'data/{pdb_id}_hint_receptor.oeb')"
   ]
  },
  {
   "cell_type": "code",
   "execution_count": 20,
   "metadata": {},
   "outputs": [],
   "source": [
    "# run docking\n",
    "from dockin.oe_docking import chemgauss_docking\n",
    "docking_poses = chemgauss_docking(hint_receptor, [ligand], docking_poses_save_path=f'data/{pdb_id}_hint_re-docking.sdf')"
   ]
  },
  {
   "cell_type": "code",
   "execution_count": 21,
   "metadata": {},
   "outputs": [
    {
     "data": {
      "application/vnd.jupyter.widget-view+json": {
       "model_id": "4befd36e9499411f945227fd15b26497",
       "version_major": 2,
       "version_minor": 0
      },
      "text/plain": [
       "NGLWidget()"
      ]
     },
     "metadata": {},
     "output_type": "display_data"
    }
   ],
   "source": [
    "#  visualize with nglview\n",
    "import nglview as nv\n",
    "view = nv.NGLWidget()\n",
    "view.add_component(f'data/{pdb_id}_protein.pdb')\n",
    "view.add_component(f'data/{pdb_id}_{ligand_id}.sdf')\n",
    "view.add_component(f'data/{pdb_id}_hint_re-docking.sdf')\n",
    "view"
   ]
  },
  {
   "cell_type": "code",
   "execution_count": 22,
   "metadata": {},
   "outputs": [
    {
     "name": "stdout",
     "output_type": "stream",
     "text": [
      "RMSD: 0.7331598508659334\n"
     ]
    }
   ],
   "source": [
    "# calculate rmsd\n",
    "rmsd = rmsds_from_sdfs(f'data/{pdb_id}_{ligand_id}.sdf', f'data/{pdb_id}_hint_re-docking.sdf')[0]\n",
    "print(f'RMSD: {rmsd}')"
   ]
  },
  {
   "cell_type": "markdown",
   "metadata": {},
   "source": [
    "In this case hybrid and chemgauss docking produced very similar results."
   ]
  },
  {
   "cell_type": "markdown",
   "metadata": {},
   "source": [
    "## 3. Cross-Docking."
   ]
  },
  {
   "cell_type": "markdown",
   "metadata": {},
   "source": [
    "In cross-docking a ligand will be docked into a different structure matching the same kinase and conformation. Again, we want to visualize the results with NGLView and calculate an RMSD between docking pose and co-crystalized ligand."
   ]
  },
  {
   "cell_type": "markdown",
   "metadata": {},
   "source": [
    "First, lets find a suitable structure for cross-docking. We used the structure with the pdb code `1jvp` in the re-docking experiment, so lets first find another structure from the same kinase type in the same kinase conformation."
   ]
  },
  {
   "cell_type": "code",
   "execution_count": 23,
   "metadata": {},
   "outputs": [
    {
     "name": "stdout",
     "output_type": "stream",
     "text": [
      "pdb: 1oit\n",
      "chain: A\n",
      "altloc: \n",
      "ligand: HDT\n"
     ]
    }
   ],
   "source": [
    "# get kinase information from ṕdb '1jvp'\n",
    "kinase_id, ac_helix, dfg = kinase_df[kinase_df['pdb'] == pdb_id][['kinase_ID', 'aC_helix', 'DFG']].values[0]\n",
    "# retrieve structure from the same type and with the same conformation and pick the first one\n",
    "kinase2 = kinase_df[(kinase_df['kinase_ID'] == kinase_id) & (kinase_df['aC_helix'] == ac_helix) & \n",
    "          (kinase_df['DFG'] == dfg)].iloc[0]\n",
    "# get kinase information for further processing\n",
    "pdb_id2, chain_id2, altloc2, ligand_id2 = kinase2[['pdb', 'chain', 'alt', 'ligand']].values\n",
    "print(f'pdb: {pdb_id2}\\nchain: {chain_id2}\\naltloc: {altloc2}\\nligand: {ligand_id2}')"
   ]
  },
  {
   "cell_type": "markdown",
   "metadata": {},
   "source": [
    "Just like before, let's retrieve the corresponding structure from pdb and select the chain and ligand for further processing."
   ]
  },
  {
   "cell_type": "code",
   "execution_count": 24,
   "metadata": {},
   "outputs": [],
   "source": [
    "# retrieve structure from pdb\n",
    "mol = get_structure_from_pdb(pdb_id2)\n",
    "# select chain and ligand, altloc not given\n",
    "mol = select_chain(mol, chain_id2)\n",
    "mol = select_ligand(mol, ligand_id2)"
   ]
  },
  {
   "cell_type": "markdown",
   "metadata": {},
   "source": [
    "Next, align the novel structure to the protein of `1jvp` from above re-docking experiments."
   ]
  },
  {
   "cell_type": "code",
   "execution_count": 25,
   "metadata": {},
   "outputs": [
    {
     "data": {
      "text/plain": [
       "0.4103922767769461"
      ]
     },
     "execution_count": 25,
     "metadata": {},
     "output_type": "execute_result"
    }
   ],
   "source": [
    "from dockin.oe_docking import superpose_proteins\n",
    "rmsd, superposed_protein = superpose_proteins(protein, mol, \n",
    "    superposed_protein_save_path=f'data/{pdb_id}_{pdb_id2}_superposed.pdb')\n",
    "rmsd"
   ]
  },
  {
   "cell_type": "markdown",
   "metadata": {},
   "source": [
    "Prepare protein and ligand from superposed_protein."
   ]
  },
  {
   "cell_type": "code",
   "execution_count": 26,
   "metadata": {},
   "outputs": [
    {
     "name": "stdout",
     "output_type": "stream",
     "text": [
      "Re-optimizing hydrogen positions...\n",
      "Identifying design units...\n"
     ]
    }
   ],
   "source": [
    "protein2, ligand2 = prepare_complex(superposed_protein, f'data/{pdb_id2}_protein.pdb', f'data/{pdb_id2}_{ligand_id2}.sdf')"
   ]
  },
  {
   "cell_type": "markdown",
   "metadata": {},
   "source": [
    "Run docking experiments."
   ]
  },
  {
   "cell_type": "code",
   "execution_count": 27,
   "metadata": {},
   "outputs": [],
   "source": [
    "docking_poses = hybrid_docking(hybrid_receptor, [ligand2], \n",
    "                               docking_poses_save_path=f'data/{pdb_id}_{ligand_id2}_hybrid_cross-docking.sdf')\n",
    "docking_poses = chemgauss_docking(hint_receptor, [ligand2], \n",
    "                                  docking_poses_save_path=f'data/{pdb_id}_{ligand_id2}_chemgauss_cross-docking.sdf')"
   ]
  },
  {
   "cell_type": "markdown",
   "metadata": {},
   "source": [
    "Calculate RMSDs between docked compound and co-crystalized binding pose."
   ]
  },
  {
   "cell_type": "code",
   "execution_count": 28,
   "metadata": {},
   "outputs": [
    {
     "name": "stdout",
     "output_type": "stream",
     "text": [
      "RMSD:\n",
      "Hybrid - 0.7408726809157818\n",
      "ChemGauss - 0.9775361042732151\n"
     ]
    }
   ],
   "source": [
    "rmsd_hybrid = rmsds_from_sdfs(f'data/{pdb_id2}_{ligand_id2}.sdf', f'data/{pdb_id}_{ligand_id2}_hybrid_cross-docking.sdf')[0]\n",
    "rmsd_chemgauss = rmsds_from_sdfs(f'data/{pdb_id2}_{ligand_id2}.sdf', f'data/{pdb_id}_{ligand_id2}_chemgauss_cross-docking.sdf')[0]\n",
    "print(f'RMSD:\\nHybrid - {rmsd_hybrid}\\nChemGauss - {rmsd_chemgauss}')"
   ]
  },
  {
   "cell_type": "markdown",
   "metadata": {},
   "source": [
    "Visualize dockin results with NGLView."
   ]
  },
  {
   "cell_type": "code",
   "execution_count": 29,
   "metadata": {},
   "outputs": [
    {
     "data": {
      "application/vnd.jupyter.widget-view+json": {
       "model_id": "99d6ba9a350f4db5bcf54ca6b1ddb2a9",
       "version_major": 2,
       "version_minor": 0
      },
      "text/plain": [
       "NGLWidget()"
      ]
     },
     "metadata": {},
     "output_type": "display_data"
    }
   ],
   "source": [
    "#  visualize with nglview\n",
    "import nglview as nv\n",
    "view = nv.NGLWidget()\n",
    "view.add_component(f'data/{pdb_id}_{pdb_id2}_superposed.pdb')\n",
    "view.add_component(f'data/{pdb_id}_{ligand_id2}_hybrid_cross-docking.sdf')\n",
    "view.add_component(f'data/{pdb_id}_{ligand_id2}_chemgauss_cross-docking.sdf')\n",
    "view"
   ]
  },
  {
   "cell_type": "code",
   "execution_count": 30,
   "metadata": {},
   "outputs": [
    {
     "name": "stdout",
     "output_type": "stream",
     "text": [
      "Hybrid - red\n",
      "ChemGauss - green\n"
     ]
    }
   ],
   "source": [
    "view.clear_representations(component=0)\n",
    "view.clear_representations(component=1)\n",
    "view.clear_representations(component=2)\n",
    "view.add_representation('cartoon', selection='protein', component=0)\n",
    "view.add_representation('licorice', selection=ligand_id2, component=0)\n",
    "view.add_representation('licorice', component=1, selection='not hydrogen', color='red')\n",
    "view.add_representation('licorice', component=2, selection='not hydrogen', color='green')\n",
    "print('Hybrid - red\\nChemGauss - green')"
   ]
  },
  {
   "cell_type": "markdown",
   "metadata": {},
   "source": [
    "Both, Hybrid an ChemGauss docking, were able to reproduce the observed binding mode of the co-crystalied ligand during cross-docking."
   ]
  },
  {
   "cell_type": "code",
   "execution_count": null,
   "metadata": {},
   "outputs": [],
   "source": []
  }
 ],
 "metadata": {
  "kernelspec": {
   "display_name": "Python 3",
   "language": "python",
   "name": "python3"
  },
  "language_info": {
   "codemirror_mode": {
    "name": "ipython",
    "version": 3
   },
   "file_extension": ".py",
   "mimetype": "text/x-python",
   "name": "python",
   "nbconvert_exporter": "python",
   "pygments_lexer": "ipython3",
   "version": "3.6.10"
  }
 },
 "nbformat": 4,
 "nbformat_minor": 4
}
