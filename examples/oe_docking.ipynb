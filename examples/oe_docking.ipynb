{
 "cells": [
  {
   "cell_type": "markdown",
   "metadata": {},
   "source": [
    "# OpenEye (OE) docking example\n",
    "\n",
    "This notebook shows how to process data from [KLIFS](https://klifs.vu-compmedchem.nl/), perform docking into a kinase with different docking methods available in the [OpenEye toolkit](https://docs.eyesopen.com/toolkits/python/index.html) as well as how to assess and visualize docking results.\n",
    "\n",
    "The main aim of the following sections is to get to know two docking methods (Hybrid, ChemGauss) from OEDocking. The [Hybrid](https://docs.eyesopen.com/toolkits/python/dockingtk/docking.html#hybrid-method) method uses a shape overlay to the co-crystalized ligand to bias the docking algorithm. However, it is not usable if a co-crystalized ligand is not available. In this situation, the more 'traditional' [ChemGauss](https://docs.eyesopen.com/toolkits/python/dockingtk/scoring.html#chemgauss3) docking method can be used to dock a ligand.\n",
    "\n",
    "Re-docking will be performed to assess the performance of the two docking methods in placing the co-crystalized ligand in the corresponding protein structure. Cross-docking will be performed to assess the performance of the Hybrid method in placing a ligand into another structure of the same kinase and conformation. Here it would be interesting to evaluate, if the Hybrid method fails if the docked ligand is too dissimilar to the co-crystalized ligand used during shape overlay.\n",
    "\n",
    "Docking results will be visualized using NGLView and assessed by calculating the RMSD between docking pose and crystal structure pose."
   ]
  },
  {
   "cell_type": "markdown",
   "metadata": {},
   "source": [
    "## Content\n",
    "\n",
    "1. Process data from KLIFS.  \n",
    "2. Re-Docking.  \n",
    "   2.1. Prepare protein and ligand.  \n",
    "   2.2. Hybrid docking method.  \n",
    "   2.3. ChemGauss docking method.  \n",
    "3. Cross-Docking.  \n",
    "   3.1. Hybrid docking method."
   ]
  },
  {
   "cell_type": "markdown",
   "metadata": {},
   "source": [
    "## 1. Process data from KLIFS.\n",
    "\n",
    "Let's retrieve all relevant data from KLIFS and store it in a single dataframe for subsequent processing."
   ]
  },
  {
   "cell_type": "code",
   "execution_count": 1,
   "metadata": {},
   "outputs": [
    {
     "name": "stdout",
     "output_type": "stream",
     "text": [
      "Number of PDB entries: 5130\n",
      "Number of KLIFS entries: 11056\n"
     ]
    },
    {
     "data": {
      "text/html": [
       "<div>\n",
       "<style scoped>\n",
       "    .dataframe tbody tr th:only-of-type {\n",
       "        vertical-align: middle;\n",
       "    }\n",
       "\n",
       "    .dataframe tbody tr th {\n",
       "        vertical-align: top;\n",
       "    }\n",
       "\n",
       "    .dataframe thead th {\n",
       "        text-align: right;\n",
       "    }\n",
       "</style>\n",
       "<table border=\"1\" class=\"dataframe\">\n",
       "  <thead>\n",
       "    <tr style=\"text-align: right;\">\n",
       "      <th></th>\n",
       "      <th>structure_ID</th>\n",
       "      <th>kinase</th>\n",
       "      <th>species</th>\n",
       "      <th>kinase_ID</th>\n",
       "      <th>pdb</th>\n",
       "      <th>alt</th>\n",
       "      <th>chain</th>\n",
       "      <th>rmsd1</th>\n",
       "      <th>rmsd2</th>\n",
       "      <th>pocket</th>\n",
       "      <th>...</th>\n",
       "      <th>bp_I_A</th>\n",
       "      <th>bp_I_B</th>\n",
       "      <th>bp_II_in</th>\n",
       "      <th>bp_II_A_in</th>\n",
       "      <th>bp_II_B_in</th>\n",
       "      <th>bp_II_out</th>\n",
       "      <th>bp_II_B</th>\n",
       "      <th>bp_III</th>\n",
       "      <th>bp_IV</th>\n",
       "      <th>bp_V</th>\n",
       "    </tr>\n",
       "  </thead>\n",
       "  <tbody>\n",
       "    <tr>\n",
       "      <th>11051</th>\n",
       "      <td>9098</td>\n",
       "      <td>PI4K2B</td>\n",
       "      <td>Human</td>\n",
       "      <td>1091</td>\n",
       "      <td>4wtv</td>\n",
       "      <td>B</td>\n",
       "      <td>A</td>\n",
       "      <td>1.554</td>\n",
       "      <td>3.088</td>\n",
       "      <td>ERISQGSSGSYFVGVFKPKGYLSEAGAYLVDNSIVPKTKVVGSFQL...</td>\n",
       "      <td>...</td>\n",
       "      <td>False</td>\n",
       "      <td>False</td>\n",
       "      <td>False</td>\n",
       "      <td>False</td>\n",
       "      <td>False</td>\n",
       "      <td>False</td>\n",
       "      <td>False</td>\n",
       "      <td>False</td>\n",
       "      <td>False</td>\n",
       "      <td>False</td>\n",
       "    </tr>\n",
       "    <tr>\n",
       "      <th>11052</th>\n",
       "      <td>9096</td>\n",
       "      <td>PI4K2B</td>\n",
       "      <td>Human</td>\n",
       "      <td>1091</td>\n",
       "      <td>4wtv</td>\n",
       "      <td>B</td>\n",
       "      <td>B</td>\n",
       "      <td>1.554</td>\n",
       "      <td>3.041</td>\n",
       "      <td>ERIS___SGSYFVGVFKPKGYLSEAGAYLVDNSIVPKTKVVGSFQL...</td>\n",
       "      <td>...</td>\n",
       "      <td>False</td>\n",
       "      <td>False</td>\n",
       "      <td>False</td>\n",
       "      <td>False</td>\n",
       "      <td>False</td>\n",
       "      <td>False</td>\n",
       "      <td>False</td>\n",
       "      <td>False</td>\n",
       "      <td>False</td>\n",
       "      <td>False</td>\n",
       "    </tr>\n",
       "    <tr>\n",
       "      <th>11053</th>\n",
       "      <td>9095</td>\n",
       "      <td>PI4K2B</td>\n",
       "      <td>Human</td>\n",
       "      <td>1091</td>\n",
       "      <td>4wtv</td>\n",
       "      <td>A</td>\n",
       "      <td>A</td>\n",
       "      <td>1.554</td>\n",
       "      <td>3.088</td>\n",
       "      <td>ERISQGSSGSYFVGVFKPKGYLSEAGAYLVDNSIVPKTKVVGSFQL...</td>\n",
       "      <td>...</td>\n",
       "      <td>False</td>\n",
       "      <td>False</td>\n",
       "      <td>False</td>\n",
       "      <td>False</td>\n",
       "      <td>False</td>\n",
       "      <td>False</td>\n",
       "      <td>False</td>\n",
       "      <td>False</td>\n",
       "      <td>False</td>\n",
       "      <td>False</td>\n",
       "    </tr>\n",
       "    <tr>\n",
       "      <th>11054</th>\n",
       "      <td>9070</td>\n",
       "      <td>PI4KA</td>\n",
       "      <td>Human</td>\n",
       "      <td>1096</td>\n",
       "      <td>6bq1</td>\n",
       "      <td></td>\n",
       "      <td>A</td>\n",
       "      <td>1.704</td>\n",
       "      <td>2.676</td>\n",
       "      <td>_PMQSAAKAPYLAAIFKVGDCRQDMLALQIIDLFVFPYRVVCGVIE...</td>\n",
       "      <td>...</td>\n",
       "      <td>False</td>\n",
       "      <td>True</td>\n",
       "      <td>False</td>\n",
       "      <td>False</td>\n",
       "      <td>False</td>\n",
       "      <td>False</td>\n",
       "      <td>False</td>\n",
       "      <td>False</td>\n",
       "      <td>False</td>\n",
       "      <td>False</td>\n",
       "    </tr>\n",
       "    <tr>\n",
       "      <th>11055</th>\n",
       "      <td>9069</td>\n",
       "      <td>PI4KA</td>\n",
       "      <td>Human</td>\n",
       "      <td>1096</td>\n",
       "      <td>6bq1</td>\n",
       "      <td></td>\n",
       "      <td>E</td>\n",
       "      <td>1.699</td>\n",
       "      <td>2.670</td>\n",
       "      <td>_PMQSAAKAPYLAAIFKVGDCRQDMLALQIIDLFVFPYRVVCGVIE...</td>\n",
       "      <td>...</td>\n",
       "      <td>True</td>\n",
       "      <td>True</td>\n",
       "      <td>False</td>\n",
       "      <td>False</td>\n",
       "      <td>False</td>\n",
       "      <td>False</td>\n",
       "      <td>False</td>\n",
       "      <td>False</td>\n",
       "      <td>False</td>\n",
       "      <td>False</td>\n",
       "    </tr>\n",
       "  </tbody>\n",
       "</table>\n",
       "<p>5 rows × 36 columns</p>\n",
       "</div>"
      ],
      "text/plain": [
       "       structure_ID  kinase species  kinase_ID   pdb alt chain  rmsd1  rmsd2  \\\n",
       "11051          9098  PI4K2B   Human       1091  4wtv   B     A  1.554  3.088   \n",
       "11052          9096  PI4K2B   Human       1091  4wtv   B     B  1.554  3.041   \n",
       "11053          9095  PI4K2B   Human       1091  4wtv   A     A  1.554  3.088   \n",
       "11054          9070   PI4KA   Human       1096  6bq1         A  1.704  2.676   \n",
       "11055          9069   PI4KA   Human       1096  6bq1         E  1.699  2.670   \n",
       "\n",
       "                                                  pocket  ...  bp_I_A  bp_I_B  \\\n",
       "11051  ERISQGSSGSYFVGVFKPKGYLSEAGAYLVDNSIVPKTKVVGSFQL...  ...   False   False   \n",
       "11052  ERIS___SGSYFVGVFKPKGYLSEAGAYLVDNSIVPKTKVVGSFQL...  ...   False   False   \n",
       "11053  ERISQGSSGSYFVGVFKPKGYLSEAGAYLVDNSIVPKTKVVGSFQL...  ...   False   False   \n",
       "11054  _PMQSAAKAPYLAAIFKVGDCRQDMLALQIIDLFVFPYRVVCGVIE...  ...   False    True   \n",
       "11055  _PMQSAAKAPYLAAIFKVGDCRQDMLALQIIDLFVFPYRVVCGVIE...  ...    True    True   \n",
       "\n",
       "       bp_II_in  bp_II_A_in bp_II_B_in bp_II_out bp_II_B bp_III  bp_IV   bp_V  \n",
       "11051     False       False      False     False   False  False  False  False  \n",
       "11052     False       False      False     False   False  False  False  False  \n",
       "11053     False       False      False     False   False  False  False  False  \n",
       "11054     False       False      False     False   False  False  False  False  \n",
       "11055     False       False      False     False   False  False  False  False  \n",
       "\n",
       "[5 rows x 36 columns]"
      ]
     },
     "execution_count": 1,
     "metadata": {},
     "output_type": "execute_result"
    }
   ],
   "source": [
    "import klifs_utils\n",
    "kinase_ids = klifs_utils.remote.kinases.kinase_names().kinase_ID.to_list()\n",
    "kinase_df = klifs_utils.remote.structures.structures_from_kinase_id(kinase_ids)\n",
    "print('Number of PDB entries:', len(set(kinase_df['pdb'])))\n",
    "print('Number of KLIFS entries:', len(kinase_df))\n",
    "kinase_df.tail()"
   ]
  },
  {
   "cell_type": "markdown",
   "metadata": {},
   "source": [
    "Interestingly, we find several entries for the same PDB ID. Why is that?"
   ]
  },
  {
   "cell_type": "code",
   "execution_count": 2,
   "metadata": {},
   "outputs": [
    {
     "data": {
      "text/plain": [
       "Index(['structure_ID', 'kinase', 'species', 'kinase_ID', 'pdb', 'alt', 'chain',\n",
       "       'rmsd1', 'rmsd2', 'pocket', 'resolution', 'quality_score',\n",
       "       'missing_residues', 'missing_atoms', 'ligand', 'allosteric_ligand',\n",
       "       'DFG', 'aC_helix', 'Grich_distance', 'Grich_angle', 'Grich_rotation',\n",
       "       'front', 'gate', 'back', 'fp_I', 'fp_II', 'bp_I_A', 'bp_I_B',\n",
       "       'bp_II_in', 'bp_II_A_in', 'bp_II_B_in', 'bp_II_out', 'bp_II_B',\n",
       "       'bp_III', 'bp_IV', 'bp_V'],\n",
       "      dtype='object')"
      ]
     },
     "execution_count": 2,
     "metadata": {},
     "output_type": "execute_result"
    }
   ],
   "source": [
    "kinase_df.columns"
   ]
  },
  {
   "cell_type": "markdown",
   "metadata": {},
   "source": [
    "**alt** - Structures can contain alternate locations of atoms.  \n",
    "**chain** - Structures can contain several chains with different geometry.  \n",
    "**ligand**, **allosteric_ligand** - Structures can contain multiple ligands either in the same binding site or in different chains. In case of 6q0t there are two ligands interacting with each other, docking these ligands seperately might be challenging. In case of 1h00 the racemic mixture was crystalized revealing both enantiomers in the binding pocket, which would be suitable for docking."
   ]
  },
  {
   "cell_type": "markdown",
   "metadata": {},
   "source": [
    "To make things easier, let's pick a single entry per pdb code. Such entry should contain a single orthosteric **ligand** and should have the highest **quality_score** of all available **alt/chain combinations**."
   ]
  },
  {
   "cell_type": "code",
   "execution_count": 3,
   "metadata": {},
   "outputs": [
    {
     "name": "stdout",
     "output_type": "stream",
     "text": [
      "Number of PDB entries: 4501\n",
      "Number of KLIFS entries: 9380\n"
     ]
    }
   ],
   "source": [
    "# filter for orthosteric ligand\n",
    "kinase_df = kinase_df[kinase_df['ligand'] != 0]\n",
    "print('Number of PDB entries:', len(set(kinase_df['pdb'])))\n",
    "print('Number of KLIFS entries:', len(kinase_df))"
   ]
  },
  {
   "cell_type": "code",
   "execution_count": 4,
   "metadata": {},
   "outputs": [
    {
     "name": "stdout",
     "output_type": "stream",
     "text": [
      "Number of PDB entries: 4476\n",
      "Number of KLIFS entries: 9271\n"
     ]
    }
   ],
   "source": [
    "# filter for entries with a single orthosteric ligand\n",
    "kinase_df = kinase_df.groupby('pdb').filter(lambda x: len(set(x['ligand'])) == 1)\n",
    "print('Number of PDB entries:', len(set(kinase_df['pdb'])))\n",
    "print('Number of KLIFS entries:', len(kinase_df))"
   ]
  },
  {
   "cell_type": "code",
   "execution_count": 5,
   "metadata": {},
   "outputs": [
    {
     "name": "stdout",
     "output_type": "stream",
     "text": [
      "Number of PDB entries: 4476\n",
      "Number of KLIFS entries: 4476\n"
     ]
    }
   ],
   "source": [
    "# sort by alt, chain and quality score to pick representative structure in next step\n",
    "kinase_df = kinase_df.sort_values(by=['alt','chain', 'quality_score'],ascending=[True, True, False])\n",
    "# keep entry with highest quality score (alt 'A' preferred over alt 'B', chain 'A' preferred over 'B')\n",
    "kinase_df = kinase_df.groupby('pdb').head(1)\n",
    "print('Number of PDB entries:', len(set(kinase_df['pdb'])))\n",
    "print('Number of KLIFS entries:', len(kinase_df))"
   ]
  },
  {
   "cell_type": "markdown",
   "metadata": {},
   "source": [
    "This data set contains bullet proof cases, that an ideal docking algorithm should be able to re-dock. Let's save it for later use."
   ]
  },
  {
   "cell_type": "code",
   "execution_count": 6,
   "metadata": {},
   "outputs": [],
   "source": [
    "kinase_df.to_csv('data/re_docking_data.csv')"
   ]
  },
  {
   "cell_type": "markdown",
   "metadata": {},
   "source": [
    "Another challenge for a docking program would be cross-docking, in which a co-crystalized ligand is docked into another protein structure corresponding to the same kinase. Since kinases are highly dynamic, cross-docking should only be performed within the same kinase conformations. In KLIFS unqiue kinases can be identified using **kinase_ID**. The conformation can be determined with the **DFG** and **aC_helix** fields."
   ]
  },
  {
   "cell_type": "code",
   "execution_count": 7,
   "metadata": {
    "scrolled": true
   },
   "outputs": [],
   "source": [
    "# find structures, for which multiple entries per kinase and conformation are available\n",
    "multiple_pdbs_df = kinase_df.groupby(['kinase_ID', 'DFG', 'aC_helix']).filter(lambda x: len(x[['kinase_ID', 'DFG', 'aC_helix']]) > 1)"
   ]
  },
  {
   "cell_type": "code",
   "execution_count": 8,
   "metadata": {},
   "outputs": [
    {
     "name": "stdout",
     "output_type": "stream",
     "text": [
      "Minimum number of entries for each kinase and conformation: 2\n",
      "Number of PDB entries: 4278\n",
      "Number of KLIFS entries: 4278\n"
     ]
    }
   ],
   "source": [
    "# Check if command works\n",
    "kinase_dict = {}\n",
    "for index, row in multiple_pdbs_df.iterrows():\n",
    "    identity = str(row['kinase_ID']) + row['DFG'] + row['aC_helix']\n",
    "    if identity in kinase_dict.keys():\n",
    "        kinase_dict[identity].append(index)\n",
    "    else:\n",
    "        kinase_dict[identity] = [index]\n",
    "print(f'Minimum number of entries for each kinase and conformation: {min([len(x) for x in kinase_dict.values()])}')\n",
    "print('Number of PDB entries:', len(set(multiple_pdbs_df['pdb'])))\n",
    "print('Number of KLIFS entries:', len(multiple_pdbs_df))"
   ]
  },
  {
   "cell_type": "markdown",
   "metadata": {},
   "source": [
    "Let's save this data set for later use."
   ]
  },
  {
   "cell_type": "code",
   "execution_count": 9,
   "metadata": {},
   "outputs": [],
   "source": [
    "multiple_pdbs_df.to_csv('data/cross_docking_data.csv')"
   ]
  },
  {
   "cell_type": "markdown",
   "metadata": {},
   "source": [
    "## 2. Re-Docking."
   ]
  },
  {
   "cell_type": "markdown",
   "metadata": {},
   "source": [
    "### 2.1. Prepare protein and ligand.\n",
    "\n",
    "In this step a structure will be retrieved from PDB, and protein and ligand prepared for docking."
   ]
  },
  {
   "cell_type": "code",
   "execution_count": 10,
   "metadata": {},
   "outputs": [
    {
     "name": "stdout",
     "output_type": "stream",
     "text": [
      "pdb: 1jvp\n",
      "chain: P\n",
      "altloc: 1\n",
      "ligand: LIG\n"
     ]
    }
   ],
   "source": [
    "# pick structure\n",
    "pdb_id = '1jvp'\n",
    "chain_id, altloc, ligand_id  = kinase_df[kinase_df['pdb'] == pdb_id][['chain', 'alt', 'ligand']].values[0]\n",
    "print(f'pdb: {pdb_id}\\nchain: {chain_id}\\naltloc: {altloc}\\nligand: {ligand_id}')"
   ]
  },
  {
   "cell_type": "code",
   "execution_count": 11,
   "metadata": {},
   "outputs": [
    {
     "data": {
      "text/plain": [
       "2709"
      ]
     },
     "execution_count": 11,
     "metadata": {},
     "output_type": "execute_result"
    }
   ],
   "source": [
    "# retrieve structure\n",
    "from dockin.oe_docking import get_structure_from_pdb\n",
    "mol = get_structure_from_pdb(pdb_id)\n",
    "mol.NumAtoms()"
   ]
  },
  {
   "cell_type": "code",
   "execution_count": 12,
   "metadata": {},
   "outputs": [
    {
     "data": {
      "text/plain": [
       "2547"
      ]
     },
     "execution_count": 12,
     "metadata": {},
     "output_type": "execute_result"
    }
   ],
   "source": [
    "# select chain, alternate location and ligand\n",
    "from dockin.oe_docking import select_chain, select_altloc, select_ligand\n",
    "mol = select_chain(mol, chain_id)\n",
    "mol = select_altloc(mol, altloc)\n",
    "mol = select_ligand(mol, ligand_id)\n",
    "mol.NumAtoms()"
   ]
  },
  {
   "cell_type": "code",
   "execution_count": 13,
   "metadata": {},
   "outputs": [
    {
     "name": "stdout",
     "output_type": "stream",
     "text": [
      "Re-optimizing hydrogen positions...\n",
      "Identifying design units...\n",
      "Protein: 4631\n",
      "Ligand: 29\n"
     ]
    }
   ],
   "source": [
    "# prepare protein and ligand\n",
    "from dockin.oe_docking import prepare_complex\n",
    "protein, ligand = prepare_complex(mol)\n",
    "print(f'Protein: {protein.NumAtoms()}\\nLigand: {ligand.NumAtoms()}')"
   ]
  },
  {
   "cell_type": "code",
   "execution_count": 14,
   "metadata": {},
   "outputs": [],
   "source": [
    "# create receptor\n",
    "from dockin.oe_docking import create_complex_receptor\n",
    "complex_receptor = create_complex_receptor(protein, ligand)"
   ]
  },
  {
   "cell_type": "markdown",
   "metadata": {},
   "source": [
    "### 2.2. Hybrid docking method.\n",
    "\n",
    "Now we have everything to perform a Re-Docking using the Hybrid method."
   ]
  },
  {
   "cell_type": "code",
   "execution_count": 15,
   "metadata": {},
   "outputs": [
    {
     "data": {
      "text/plain": [
       "[<oechem.OEMolBase; proxy of <Swig Object of type 'OEChem::OEMolBase *' at 0x7f0ef9b597b0> >]"
      ]
     },
     "execution_count": 15,
     "metadata": {},
     "output_type": "execute_result"
    }
   ],
   "source": [
    "from dockin.oe_docking import hybrid_docking\n",
    "# the just extracted ligand will be passed as list, since the hybrid_docking function expects a list of molecules\n",
    "docking_poses = hybrid_docking(complex_receptor, [ligand])\n",
    "docking_poses"
   ]
  },
  {
   "cell_type": "markdown",
   "metadata": {},
   "source": [
    "Next will be visualization with NGLView and calculation of RMSD between predicted and experimental observed binding pose ..."
   ]
  },
  {
   "cell_type": "code",
   "execution_count": null,
   "metadata": {},
   "outputs": [],
   "source": []
  }
 ],
 "metadata": {
  "kernelspec": {
   "display_name": "Python 3",
   "language": "python",
   "name": "python3"
  },
  "language_info": {
   "codemirror_mode": {
    "name": "ipython",
    "version": 3
   },
   "file_extension": ".py",
   "mimetype": "text/x-python",
   "name": "python",
   "nbconvert_exporter": "python",
   "pygments_lexer": "ipython3",
   "version": "3.7.6"
  }
 },
 "nbformat": 4,
 "nbformat_minor": 4
}
